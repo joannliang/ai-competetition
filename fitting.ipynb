{
 "cells": [
  {
   "cell_type": "code",
   "execution_count": 1,
   "metadata": {},
   "outputs": [],
   "source": [
    "import pandas as pd"
   ]
  },
  {
   "cell_type": "code",
   "execution_count": 2,
   "metadata": {},
   "outputs": [],
   "source": [
    "data = pd.read_excel(\"strategy_results_train.xlsx\")"
   ]
  },
  {
   "cell_type": "code",
   "execution_count": 3,
   "metadata": {},
   "outputs": [
    {
     "data": {
      "text/html": [
       "<div>\n",
       "<style scoped>\n",
       "    .dataframe tbody tr th:only-of-type {\n",
       "        vertical-align: middle;\n",
       "    }\n",
       "\n",
       "    .dataframe tbody tr th {\n",
       "        vertical-align: top;\n",
       "    }\n",
       "\n",
       "    .dataframe thead th {\n",
       "        text-align: right;\n",
       "    }\n",
       "</style>\n",
       "<table border=\"1\" class=\"dataframe\">\n",
       "  <thead>\n",
       "    <tr style=\"text-align: right;\">\n",
       "      <th></th>\n",
       "      <th>id</th>\n",
       "      <th>label</th>\n",
       "      <th>date</th>\n",
       "      <th>open</th>\n",
       "      <th>high</th>\n",
       "      <th>low</th>\n",
       "      <th>close</th>\n",
       "      <th>volume</th>\n",
       "      <th>ma5</th>\n",
       "      <th>ma10</th>\n",
       "      <th>ma15</th>\n",
       "      <th>cmo14</th>\n",
       "      <th>rsi6</th>\n",
       "      <th>mom10</th>\n",
       "    </tr>\n",
       "  </thead>\n",
       "  <tbody>\n",
       "    <tr>\n",
       "      <td>0</td>\n",
       "      <td>SHSE.600085_201501</td>\n",
       "      <td>0</td>\n",
       "      <td>2014-12-30</td>\n",
       "      <td>20.900000</td>\n",
       "      <td>22.090000</td>\n",
       "      <td>20.799999</td>\n",
       "      <td>22.049999</td>\n",
       "      <td>25457468.0</td>\n",
       "      <td>21.291999</td>\n",
       "      <td>21.369</td>\n",
       "      <td>21.636000</td>\n",
       "      <td>23.528606</td>\n",
       "      <td>67.422912</td>\n",
       "      <td>0.230000</td>\n",
       "    </tr>\n",
       "    <tr>\n",
       "      <td>1</td>\n",
       "      <td>SHSE.600085_201502</td>\n",
       "      <td>1</td>\n",
       "      <td>2015-01-30</td>\n",
       "      <td>22.990000</td>\n",
       "      <td>23.190001</td>\n",
       "      <td>22.510000</td>\n",
       "      <td>22.580000</td>\n",
       "      <td>7880595.0</td>\n",
       "      <td>23.320000</td>\n",
       "      <td>23.386</td>\n",
       "      <td>23.590000</td>\n",
       "      <td>-7.337719</td>\n",
       "      <td>33.069972</td>\n",
       "      <td>-1.850000</td>\n",
       "    </tr>\n",
       "    <tr>\n",
       "      <td>2</td>\n",
       "      <td>SHSE.600085_201503</td>\n",
       "      <td>1</td>\n",
       "      <td>2015-02-27</td>\n",
       "      <td>22.520000</td>\n",
       "      <td>22.670000</td>\n",
       "      <td>22.400000</td>\n",
       "      <td>22.540001</td>\n",
       "      <td>9263796.0</td>\n",
       "      <td>22.442000</td>\n",
       "      <td>22.106</td>\n",
       "      <td>22.165333</td>\n",
       "      <td>1.911593</td>\n",
       "      <td>57.292366</td>\n",
       "      <td>-0.070000</td>\n",
       "    </tr>\n",
       "    <tr>\n",
       "      <td>3</td>\n",
       "      <td>SHSE.600085_201504</td>\n",
       "      <td>1</td>\n",
       "      <td>2015-03-30</td>\n",
       "      <td>26.219999</td>\n",
       "      <td>26.440001</td>\n",
       "      <td>25.820000</td>\n",
       "      <td>26.230000</td>\n",
       "      <td>16125626.0</td>\n",
       "      <td>26.378000</td>\n",
       "      <td>25.148</td>\n",
       "      <td>24.380667</td>\n",
       "      <td>39.978429</td>\n",
       "      <td>73.065077</td>\n",
       "      <td>2.559999</td>\n",
       "    </tr>\n",
       "    <tr>\n",
       "      <td>4</td>\n",
       "      <td>SHSE.600085_201505</td>\n",
       "      <td>1</td>\n",
       "      <td>2015-04-29</td>\n",
       "      <td>32.580002</td>\n",
       "      <td>33.639999</td>\n",
       "      <td>32.279999</td>\n",
       "      <td>33.180000</td>\n",
       "      <td>13959795.0</td>\n",
       "      <td>32.888000</td>\n",
       "      <td>32.902</td>\n",
       "      <td>32.436000</td>\n",
       "      <td>31.894232</td>\n",
       "      <td>60.800069</td>\n",
       "      <td>1.500000</td>\n",
       "    </tr>\n",
       "  </tbody>\n",
       "</table>\n",
       "</div>"
      ],
      "text/plain": [
       "                   id  label       date       open       high        low  \\\n",
       "0  SHSE.600085_201501      0 2014-12-30  20.900000  22.090000  20.799999   \n",
       "1  SHSE.600085_201502      1 2015-01-30  22.990000  23.190001  22.510000   \n",
       "2  SHSE.600085_201503      1 2015-02-27  22.520000  22.670000  22.400000   \n",
       "3  SHSE.600085_201504      1 2015-03-30  26.219999  26.440001  25.820000   \n",
       "4  SHSE.600085_201505      1 2015-04-29  32.580002  33.639999  32.279999   \n",
       "\n",
       "       close      volume        ma5    ma10       ma15      cmo14       rsi6  \\\n",
       "0  22.049999  25457468.0  21.291999  21.369  21.636000  23.528606  67.422912   \n",
       "1  22.580000   7880595.0  23.320000  23.386  23.590000  -7.337719  33.069972   \n",
       "2  22.540001   9263796.0  22.442000  22.106  22.165333   1.911593  57.292366   \n",
       "3  26.230000  16125626.0  26.378000  25.148  24.380667  39.978429  73.065077   \n",
       "4  33.180000  13959795.0  32.888000  32.902  32.436000  31.894232  60.800069   \n",
       "\n",
       "      mom10  \n",
       "0  0.230000  \n",
       "1 -1.850000  \n",
       "2 -0.070000  \n",
       "3  2.559999  \n",
       "4  1.500000  "
      ]
     },
     "execution_count": 3,
     "metadata": {},
     "output_type": "execute_result"
    }
   ],
   "source": [
    "data.head()"
   ]
  },
  {
   "cell_type": "code",
   "execution_count": 4,
   "metadata": {},
   "outputs": [],
   "source": [
    "data2 = pd.concat( [data.iloc[:, 1], data.iloc[:, 8:]], axis=1)"
   ]
  },
  {
   "cell_type": "code",
   "execution_count": 5,
   "metadata": {},
   "outputs": [
    {
     "data": {
      "text/html": [
       "<div>\n",
       "<style scoped>\n",
       "    .dataframe tbody tr th:only-of-type {\n",
       "        vertical-align: middle;\n",
       "    }\n",
       "\n",
       "    .dataframe tbody tr th {\n",
       "        vertical-align: top;\n",
       "    }\n",
       "\n",
       "    .dataframe thead th {\n",
       "        text-align: right;\n",
       "    }\n",
       "</style>\n",
       "<table border=\"1\" class=\"dataframe\">\n",
       "  <thead>\n",
       "    <tr style=\"text-align: right;\">\n",
       "      <th></th>\n",
       "      <th>label</th>\n",
       "      <th>ma5</th>\n",
       "      <th>ma10</th>\n",
       "      <th>ma15</th>\n",
       "      <th>cmo14</th>\n",
       "      <th>rsi6</th>\n",
       "      <th>mom10</th>\n",
       "    </tr>\n",
       "  </thead>\n",
       "  <tbody>\n",
       "    <tr>\n",
       "      <td>0</td>\n",
       "      <td>0</td>\n",
       "      <td>21.291999</td>\n",
       "      <td>21.369</td>\n",
       "      <td>21.636000</td>\n",
       "      <td>23.528606</td>\n",
       "      <td>67.422912</td>\n",
       "      <td>0.230000</td>\n",
       "    </tr>\n",
       "    <tr>\n",
       "      <td>1</td>\n",
       "      <td>1</td>\n",
       "      <td>23.320000</td>\n",
       "      <td>23.386</td>\n",
       "      <td>23.590000</td>\n",
       "      <td>-7.337719</td>\n",
       "      <td>33.069972</td>\n",
       "      <td>-1.850000</td>\n",
       "    </tr>\n",
       "    <tr>\n",
       "      <td>2</td>\n",
       "      <td>1</td>\n",
       "      <td>22.442000</td>\n",
       "      <td>22.106</td>\n",
       "      <td>22.165333</td>\n",
       "      <td>1.911593</td>\n",
       "      <td>57.292366</td>\n",
       "      <td>-0.070000</td>\n",
       "    </tr>\n",
       "    <tr>\n",
       "      <td>3</td>\n",
       "      <td>1</td>\n",
       "      <td>26.378000</td>\n",
       "      <td>25.148</td>\n",
       "      <td>24.380667</td>\n",
       "      <td>39.978429</td>\n",
       "      <td>73.065077</td>\n",
       "      <td>2.559999</td>\n",
       "    </tr>\n",
       "    <tr>\n",
       "      <td>4</td>\n",
       "      <td>1</td>\n",
       "      <td>32.888000</td>\n",
       "      <td>32.902</td>\n",
       "      <td>32.436000</td>\n",
       "      <td>31.894232</td>\n",
       "      <td>60.800069</td>\n",
       "      <td>1.500000</td>\n",
       "    </tr>\n",
       "  </tbody>\n",
       "</table>\n",
       "</div>"
      ],
      "text/plain": [
       "   label        ma5    ma10       ma15      cmo14       rsi6     mom10\n",
       "0      0  21.291999  21.369  21.636000  23.528606  67.422912  0.230000\n",
       "1      1  23.320000  23.386  23.590000  -7.337719  33.069972 -1.850000\n",
       "2      1  22.442000  22.106  22.165333   1.911593  57.292366 -0.070000\n",
       "3      1  26.378000  25.148  24.380667  39.978429  73.065077  2.559999\n",
       "4      1  32.888000  32.902  32.436000  31.894232  60.800069  1.500000"
      ]
     },
     "execution_count": 5,
     "metadata": {},
     "output_type": "execute_result"
    }
   ],
   "source": [
    "data2.head()"
   ]
  },
  {
   "cell_type": "code",
   "execution_count": 6,
   "metadata": {},
   "outputs": [
    {
     "data": {
      "text/plain": [
       "label    False\n",
       "ma5       True\n",
       "ma10      True\n",
       "ma15      True\n",
       "cmo14     True\n",
       "rsi6      True\n",
       "mom10     True\n",
       "dtype: bool"
      ]
     },
     "execution_count": 6,
     "metadata": {},
     "output_type": "execute_result"
    }
   ],
   "source": [
    "data2.isnull().any()"
   ]
  },
  {
   "cell_type": "code",
   "execution_count": 7,
   "metadata": {},
   "outputs": [
    {
     "data": {
      "text/plain": [
       "label    False\n",
       "ma5      False\n",
       "ma10     False\n",
       "ma15     False\n",
       "cmo14    False\n",
       "rsi6     False\n",
       "mom10    False\n",
       "dtype: bool"
      ]
     },
     "execution_count": 7,
     "metadata": {},
     "output_type": "execute_result"
    }
   ],
   "source": [
    "data2 = data2.dropna(axis = 0)\n",
    "data2.isnull().any()"
   ]
  },
  {
   "cell_type": "code",
   "execution_count": 8,
   "metadata": {},
   "outputs": [
    {
     "data": {
      "text/plain": [
       "0        0\n",
       "1        1\n",
       "2        1\n",
       "3        1\n",
       "4        1\n",
       "        ..\n",
       "31942    1\n",
       "31943    0\n",
       "31944    0\n",
       "31945    0\n",
       "31946    0\n",
       "Name: label, Length: 31877, dtype: int64"
      ]
     },
     "execution_count": 8,
     "metadata": {},
     "output_type": "execute_result"
    }
   ],
   "source": [
    "y = data2[\"label\"]\n",
    "y"
   ]
  },
  {
   "cell_type": "code",
   "execution_count": 9,
   "metadata": {},
   "outputs": [],
   "source": [
    "X = data2.iloc[:, 1:]"
   ]
  },
  {
   "cell_type": "code",
   "execution_count": 10,
   "metadata": {},
   "outputs": [
    {
     "data": {
      "text/html": [
       "<div>\n",
       "<style scoped>\n",
       "    .dataframe tbody tr th:only-of-type {\n",
       "        vertical-align: middle;\n",
       "    }\n",
       "\n",
       "    .dataframe tbody tr th {\n",
       "        vertical-align: top;\n",
       "    }\n",
       "\n",
       "    .dataframe thead th {\n",
       "        text-align: right;\n",
       "    }\n",
       "</style>\n",
       "<table border=\"1\" class=\"dataframe\">\n",
       "  <thead>\n",
       "    <tr style=\"text-align: right;\">\n",
       "      <th></th>\n",
       "      <th>ma5</th>\n",
       "      <th>ma10</th>\n",
       "      <th>ma15</th>\n",
       "      <th>cmo14</th>\n",
       "      <th>rsi6</th>\n",
       "      <th>mom10</th>\n",
       "    </tr>\n",
       "  </thead>\n",
       "  <tbody>\n",
       "    <tr>\n",
       "      <td>0</td>\n",
       "      <td>21.291999</td>\n",
       "      <td>21.369000</td>\n",
       "      <td>21.636000</td>\n",
       "      <td>23.528606</td>\n",
       "      <td>67.422912</td>\n",
       "      <td>0.230000</td>\n",
       "    </tr>\n",
       "    <tr>\n",
       "      <td>1</td>\n",
       "      <td>23.320000</td>\n",
       "      <td>23.386000</td>\n",
       "      <td>23.590000</td>\n",
       "      <td>-7.337719</td>\n",
       "      <td>33.069972</td>\n",
       "      <td>-1.850000</td>\n",
       "    </tr>\n",
       "    <tr>\n",
       "      <td>2</td>\n",
       "      <td>22.442000</td>\n",
       "      <td>22.106000</td>\n",
       "      <td>22.165333</td>\n",
       "      <td>1.911593</td>\n",
       "      <td>57.292366</td>\n",
       "      <td>-0.070000</td>\n",
       "    </tr>\n",
       "    <tr>\n",
       "      <td>3</td>\n",
       "      <td>26.378000</td>\n",
       "      <td>25.148000</td>\n",
       "      <td>24.380667</td>\n",
       "      <td>39.978429</td>\n",
       "      <td>73.065077</td>\n",
       "      <td>2.559999</td>\n",
       "    </tr>\n",
       "    <tr>\n",
       "      <td>4</td>\n",
       "      <td>32.888000</td>\n",
       "      <td>32.902000</td>\n",
       "      <td>32.436000</td>\n",
       "      <td>31.894232</td>\n",
       "      <td>60.800069</td>\n",
       "      <td>1.500000</td>\n",
       "    </tr>\n",
       "    <tr>\n",
       "      <td>...</td>\n",
       "      <td>...</td>\n",
       "      <td>...</td>\n",
       "      <td>...</td>\n",
       "      <td>...</td>\n",
       "      <td>...</td>\n",
       "      <td>...</td>\n",
       "    </tr>\n",
       "    <tr>\n",
       "      <td>31942</td>\n",
       "      <td>58.442000</td>\n",
       "      <td>60.356001</td>\n",
       "      <td>60.682667</td>\n",
       "      <td>-4.493080</td>\n",
       "      <td>35.793793</td>\n",
       "      <td>-8.210003</td>\n",
       "    </tr>\n",
       "    <tr>\n",
       "      <td>31943</td>\n",
       "      <td>56.290000</td>\n",
       "      <td>55.929000</td>\n",
       "      <td>56.114000</td>\n",
       "      <td>-7.649444</td>\n",
       "      <td>40.306764</td>\n",
       "      <td>-0.150002</td>\n",
       "    </tr>\n",
       "    <tr>\n",
       "      <td>31944</td>\n",
       "      <td>55.034000</td>\n",
       "      <td>53.455999</td>\n",
       "      <td>52.943999</td>\n",
       "      <td>23.641532</td>\n",
       "      <td>79.180987</td>\n",
       "      <td>6.150002</td>\n",
       "    </tr>\n",
       "    <tr>\n",
       "      <td>31945</td>\n",
       "      <td>45.882000</td>\n",
       "      <td>47.193000</td>\n",
       "      <td>49.858000</td>\n",
       "      <td>-23.226852</td>\n",
       "      <td>37.476424</td>\n",
       "      <td>-8.170002</td>\n",
       "    </tr>\n",
       "    <tr>\n",
       "      <td>31946</td>\n",
       "      <td>49.150001</td>\n",
       "      <td>50.371001</td>\n",
       "      <td>51.181334</td>\n",
       "      <td>-21.302773</td>\n",
       "      <td>25.939419</td>\n",
       "      <td>-5.430000</td>\n",
       "    </tr>\n",
       "  </tbody>\n",
       "</table>\n",
       "<p>31877 rows × 6 columns</p>\n",
       "</div>"
      ],
      "text/plain": [
       "             ma5       ma10       ma15      cmo14       rsi6     mom10\n",
       "0      21.291999  21.369000  21.636000  23.528606  67.422912  0.230000\n",
       "1      23.320000  23.386000  23.590000  -7.337719  33.069972 -1.850000\n",
       "2      22.442000  22.106000  22.165333   1.911593  57.292366 -0.070000\n",
       "3      26.378000  25.148000  24.380667  39.978429  73.065077  2.559999\n",
       "4      32.888000  32.902000  32.436000  31.894232  60.800069  1.500000\n",
       "...          ...        ...        ...        ...        ...       ...\n",
       "31942  58.442000  60.356001  60.682667  -4.493080  35.793793 -8.210003\n",
       "31943  56.290000  55.929000  56.114000  -7.649444  40.306764 -0.150002\n",
       "31944  55.034000  53.455999  52.943999  23.641532  79.180987  6.150002\n",
       "31945  45.882000  47.193000  49.858000 -23.226852  37.476424 -8.170002\n",
       "31946  49.150001  50.371001  51.181334 -21.302773  25.939419 -5.430000\n",
       "\n",
       "[31877 rows x 6 columns]"
      ]
     },
     "execution_count": 10,
     "metadata": {},
     "output_type": "execute_result"
    }
   ],
   "source": [
    "X"
   ]
  },
  {
   "cell_type": "code",
   "execution_count": 11,
   "metadata": {},
   "outputs": [],
   "source": [
    "X = X.dropna(axis = 0)"
   ]
  },
  {
   "cell_type": "code",
   "execution_count": 12,
   "metadata": {},
   "outputs": [
    {
     "data": {
      "text/plain": [
       "ma5      False\n",
       "ma10     False\n",
       "ma15     False\n",
       "cmo14    False\n",
       "rsi6     False\n",
       "mom10    False\n",
       "dtype: bool"
      ]
     },
     "execution_count": 12,
     "metadata": {},
     "output_type": "execute_result"
    }
   ],
   "source": [
    "X.isnull().any()"
   ]
  },
  {
   "cell_type": "code",
   "execution_count": 13,
   "metadata": {},
   "outputs": [
    {
     "data": {
      "text/plain": [
       "(31877, 6)"
      ]
     },
     "execution_count": 13,
     "metadata": {},
     "output_type": "execute_result"
    }
   ],
   "source": [
    "X.shape"
   ]
  },
  {
   "cell_type": "code",
   "execution_count": 14,
   "metadata": {},
   "outputs": [
    {
     "name": "stderr",
     "output_type": "stream",
     "text": [
      "C:\\Users\\joan5\\Anaconda3\\lib\\site-packages\\sklearn\\ensemble\\forest.py:245: FutureWarning: The default value of n_estimators will change from 10 in version 0.20 to 100 in 0.22.\n",
      "  \"10 in version 0.20 to 100 in 0.22.\", FutureWarning)\n"
     ]
    },
    {
     "data": {
      "text/plain": [
       "RandomForestClassifier(bootstrap=True, class_weight=None, criterion='gini',\n",
       "                       max_depth=None, max_features='auto', max_leaf_nodes=None,\n",
       "                       min_impurity_decrease=0.0, min_impurity_split=None,\n",
       "                       min_samples_leaf=1, min_samples_split=2,\n",
       "                       min_weight_fraction_leaf=0.0, n_estimators=10,\n",
       "                       n_jobs=None, oob_score=False, random_state=None,\n",
       "                       verbose=0, warm_start=False)"
      ]
     },
     "execution_count": 14,
     "metadata": {},
     "output_type": "execute_result"
    }
   ],
   "source": [
    "from sklearn.ensemble import RandomForestClassifier\n",
    "clf = RandomForestClassifier()\n",
    "clf.fit(X, y)"
   ]
  },
  {
   "cell_type": "code",
   "execution_count": null,
   "metadata": {},
   "outputs": [],
   "source": []
  },
  {
   "cell_type": "code",
   "execution_count": 16,
   "metadata": {},
   "outputs": [],
   "source": [
    "testdata = pd.read_csv(\"sampleSubmission.csv\")"
   ]
  },
  {
   "cell_type": "code",
   "execution_count": 17,
   "metadata": {},
   "outputs": [
    {
     "data": {
      "text/plain": [
       "id       False\n",
       "label    False\n",
       "ma5      False\n",
       "ma10     False\n",
       "ma15     False\n",
       "cmo14    False\n",
       "rsi6     False\n",
       "mom10    False\n",
       "dtype: bool"
      ]
     },
     "execution_count": 17,
     "metadata": {},
     "output_type": "execute_result"
    }
   ],
   "source": [
    "testdata = testdata.fillna(0)\n",
    "testdata.isnull().any()"
   ]
  },
  {
   "cell_type": "code",
   "execution_count": 18,
   "metadata": {},
   "outputs": [
    {
     "data": {
      "text/html": [
       "<div>\n",
       "<style scoped>\n",
       "    .dataframe tbody tr th:only-of-type {\n",
       "        vertical-align: middle;\n",
       "    }\n",
       "\n",
       "    .dataframe tbody tr th {\n",
       "        vertical-align: top;\n",
       "    }\n",
       "\n",
       "    .dataframe thead th {\n",
       "        text-align: right;\n",
       "    }\n",
       "</style>\n",
       "<table border=\"1\" class=\"dataframe\">\n",
       "  <thead>\n",
       "    <tr style=\"text-align: right;\">\n",
       "      <th></th>\n",
       "      <th>ma5</th>\n",
       "      <th>ma10</th>\n",
       "      <th>ma15</th>\n",
       "      <th>cmo14</th>\n",
       "      <th>rsi6</th>\n",
       "      <th>mom10</th>\n",
       "    </tr>\n",
       "  </thead>\n",
       "  <tbody>\n",
       "    <tr>\n",
       "      <td>0</td>\n",
       "      <td>27.258000</td>\n",
       "      <td>27.573000</td>\n",
       "      <td>28.198000</td>\n",
       "      <td>-18.406644</td>\n",
       "      <td>43.920689</td>\n",
       "      <td>-2.510000</td>\n",
       "    </tr>\n",
       "    <tr>\n",
       "      <td>1</td>\n",
       "      <td>26.624000</td>\n",
       "      <td>26.698000</td>\n",
       "      <td>26.724667</td>\n",
       "      <td>-18.108538</td>\n",
       "      <td>36.866876</td>\n",
       "      <td>-0.500000</td>\n",
       "    </tr>\n",
       "    <tr>\n",
       "      <td>2</td>\n",
       "      <td>28.890000</td>\n",
       "      <td>28.863000</td>\n",
       "      <td>28.408667</td>\n",
       "      <td>21.578524</td>\n",
       "      <td>61.148764</td>\n",
       "      <td>0.549999</td>\n",
       "    </tr>\n",
       "    <tr>\n",
       "      <td>3</td>\n",
       "      <td>29.532000</td>\n",
       "      <td>30.037000</td>\n",
       "      <td>30.157333</td>\n",
       "      <td>5.401132</td>\n",
       "      <td>51.549343</td>\n",
       "      <td>-0.389999</td>\n",
       "    </tr>\n",
       "    <tr>\n",
       "      <td>4</td>\n",
       "      <td>31.514000</td>\n",
       "      <td>32.125000</td>\n",
       "      <td>32.192000</td>\n",
       "      <td>-5.607016</td>\n",
       "      <td>35.287002</td>\n",
       "      <td>-0.570002</td>\n",
       "    </tr>\n",
       "    <tr>\n",
       "      <td>...</td>\n",
       "      <td>...</td>\n",
       "      <td>...</td>\n",
       "      <td>...</td>\n",
       "      <td>...</td>\n",
       "      <td>...</td>\n",
       "      <td>...</td>\n",
       "    </tr>\n",
       "    <tr>\n",
       "      <td>11358</td>\n",
       "      <td>86.210001</td>\n",
       "      <td>86.955000</td>\n",
       "      <td>86.357333</td>\n",
       "      <td>0.348607</td>\n",
       "      <td>35.912823</td>\n",
       "      <td>-4.000000</td>\n",
       "    </tr>\n",
       "    <tr>\n",
       "      <td>11359</td>\n",
       "      <td>77.136000</td>\n",
       "      <td>80.214001</td>\n",
       "      <td>82.662001</td>\n",
       "      <td>-31.075438</td>\n",
       "      <td>25.796770</td>\n",
       "      <td>-10.879997</td>\n",
       "    </tr>\n",
       "    <tr>\n",
       "      <td>11360</td>\n",
       "      <td>70.966000</td>\n",
       "      <td>71.855001</td>\n",
       "      <td>72.971334</td>\n",
       "      <td>-16.918348</td>\n",
       "      <td>53.018605</td>\n",
       "      <td>-2.870003</td>\n",
       "    </tr>\n",
       "    <tr>\n",
       "      <td>11361</td>\n",
       "      <td>82.976001</td>\n",
       "      <td>79.619000</td>\n",
       "      <td>77.530667</td>\n",
       "      <td>29.211556</td>\n",
       "      <td>65.575880</td>\n",
       "      <td>6.629997</td>\n",
       "    </tr>\n",
       "    <tr>\n",
       "      <td>11362</td>\n",
       "      <td>81.462000</td>\n",
       "      <td>82.899000</td>\n",
       "      <td>84.118667</td>\n",
       "      <td>-3.340803</td>\n",
       "      <td>41.500225</td>\n",
       "      <td>-3.130005</td>\n",
       "    </tr>\n",
       "  </tbody>\n",
       "</table>\n",
       "<p>11363 rows × 6 columns</p>\n",
       "</div>"
      ],
      "text/plain": [
       "             ma5       ma10       ma15      cmo14       rsi6      mom10\n",
       "0      27.258000  27.573000  28.198000 -18.406644  43.920689  -2.510000\n",
       "1      26.624000  26.698000  26.724667 -18.108538  36.866876  -0.500000\n",
       "2      28.890000  28.863000  28.408667  21.578524  61.148764   0.549999\n",
       "3      29.532000  30.037000  30.157333   5.401132  51.549343  -0.389999\n",
       "4      31.514000  32.125000  32.192000  -5.607016  35.287002  -0.570002\n",
       "...          ...        ...        ...        ...        ...        ...\n",
       "11358  86.210001  86.955000  86.357333   0.348607  35.912823  -4.000000\n",
       "11359  77.136000  80.214001  82.662001 -31.075438  25.796770 -10.879997\n",
       "11360  70.966000  71.855001  72.971334 -16.918348  53.018605  -2.870003\n",
       "11361  82.976001  79.619000  77.530667  29.211556  65.575880   6.629997\n",
       "11362  81.462000  82.899000  84.118667  -3.340803  41.500225  -3.130005\n",
       "\n",
       "[11363 rows x 6 columns]"
      ]
     },
     "execution_count": 18,
     "metadata": {},
     "output_type": "execute_result"
    }
   ],
   "source": [
    "testdata.iloc[:, 2:]"
   ]
  },
  {
   "cell_type": "code",
   "execution_count": 19,
   "metadata": {},
   "outputs": [],
   "source": [
    "result = clf.predict(testdata.iloc[:, 2:])"
   ]
  },
  {
   "cell_type": "code",
   "execution_count": 20,
   "metadata": {},
   "outputs": [],
   "source": [
    "pd.DataFrame(result).to_excel(\"prediction.xlsx\", index=False)"
   ]
  },
  {
   "cell_type": "code",
   "execution_count": null,
   "metadata": {},
   "outputs": [],
   "source": []
  }
 ],
 "metadata": {
  "kernelspec": {
   "display_name": "Python 3",
   "language": "python",
   "name": "python3"
  },
  "language_info": {
   "codemirror_mode": {
    "name": "ipython",
    "version": 3
   },
   "file_extension": ".py",
   "mimetype": "text/x-python",
   "name": "python",
   "nbconvert_exporter": "python",
   "pygments_lexer": "ipython3",
   "version": "3.7.4"
  }
 },
 "nbformat": 4,
 "nbformat_minor": 4
}
